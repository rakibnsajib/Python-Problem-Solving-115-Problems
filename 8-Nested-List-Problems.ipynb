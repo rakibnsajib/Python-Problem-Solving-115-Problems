{
 "cells": [
  {
   "cell_type": "markdown",
   "metadata": {},
   "source": [
    "##### 59. Nested List Element Access: Given a nested list, write a Python program to access and print specific elements from it."
   ]
  },
  {
   "cell_type": "code",
   "execution_count": 2,
   "metadata": {},
   "outputs": [
    {
     "name": "stdout",
     "output_type": "stream",
     "text": [
      "5\n"
     ]
    }
   ],
   "source": [
    "nested_list = [[1, 2, 3], [4, 5, 6], [7, 8, 9]]\n",
    "print(nested_list[1][1])"
   ]
  },
  {
   "cell_type": "markdown",
   "metadata": {},
   "source": [
    "##### 60. Nested List Flattening: Write a Python program to flatten a nested list and convert it into a single-dimensional list."
   ]
  },
  {
   "cell_type": "code",
   "execution_count": 5,
   "metadata": {},
   "outputs": [
    {
     "name": "stdout",
     "output_type": "stream",
     "text": [
      "After conversion, the single-dimensional list: [1, 2, 3, 4, 5, 6, 7, 8, 9]\n"
     ]
    }
   ],
   "source": [
    "nested_list = [[1, 2, 3], [4, 5, 6], [7, 8, 9]]\n",
    "\n",
    "single_list = []\n",
    "\n",
    "for sublist in nested_list:\n",
    "    for element in sublist:\n",
    "        single_list.append(element)\n",
    "print(\"After conversion, the single-dimensional list:\", single_list)"
   ]
  },
  {
   "cell_type": "markdown",
   "metadata": {},
   "source": [
    "##### 61. Nested List Sorting: Given a nested list containing lists of integers, write a Python program to sort the sublists based on their lengths."
   ]
  },
  {
   "cell_type": "code",
   "execution_count": 11,
   "metadata": {},
   "outputs": [
    {
     "name": "stdout",
     "output_type": "stream",
     "text": [
      "The sorted list: [[1, 2, 3, 4], [5, 6, 7, 8], [9, 10, 11, 13]]\n"
     ]
    }
   ],
   "source": [
    "nested_list = [[3, 1, 4, 2], [11, 9, 10, 13], [5, 6, 7, 8]]\n",
    "\n",
    "for i in range(0, len(nested_list)):\n",
    "    nested_list[i] = sorted(nested_list[i])\n",
    "\n",
    "sorted_list = sorted(nested_list)\n",
    "\n",
    "print(\"The sorted list:\", sorted_list)"
   ]
  },
  {
   "cell_type": "markdown",
   "metadata": {},
   "source": [
    "##### 62. List of Tuples Conversion: Given a nested list containing tuples of (x, y) coordinates, write a Python program to convert it into a list of x-coordinates and a list of y-coordinates."
   ]
  },
  {
   "cell_type": "code",
   "execution_count": 14,
   "metadata": {},
   "outputs": [
    {
     "name": "stdout",
     "output_type": "stream",
     "text": [
      "The tuple list: [(1, 2), (3, 4), (5, 6)]\n",
      "The x coordinates: [1, 3, 5]\n",
      "The y coordinates: [2, 4, 6]\n"
     ]
    }
   ],
   "source": [
    "tuple_list = [(1, 2), (3, 4), (5, 6)]\n",
    "print(\"The tuple list:\", tuple_list)\n",
    "\n",
    "x_coordinates = [x for x, y in tuple_list]\n",
    "y_coordinates = [y for x, y in tuple_list]\n",
    "\n",
    "print(\"The x coordinates:\", x_coordinates)\n",
    "print(\"The y coordinates:\", y_coordinates)"
   ]
  },
  {
   "cell_type": "markdown",
   "metadata": {},
   "source": [
    "##### 63. Matrix Transpose: Write a Python program to transpose a given matrix represented as a nested list."
   ]
  },
  {
   "cell_type": "code",
   "execution_count": null,
   "metadata": {},
   "outputs": [],
   "source": [
    "matrix1 = [[1, 2, 3],\n",
    "           [4, 5, 6],\n",
    "           [7, 8, 9]]\n",
    "\n",
    "trans_matrix = [[0, 0, 0],\n",
    "                [0, 0, 0],\n",
    "                [0, 0, 0]]\n",
    "\n",
    "for i in range(len(matrix1)):\n",
    "    for j in range(len(matrix1[0])):\n",
    "        trans_matrix[i][j] = matrix1[j][i]\n",
    "\n",
    "print(\"Transposed Matrix:\", trans_matrix)"
   ]
  },
  {
   "cell_type": "markdown",
   "metadata": {},
   "source": [
    "##### 64. Nested List Concatenation: Given a list of nested lists, write a Python program to concatenate all the sublists into a single flat list."
   ]
  },
  {
   "cell_type": "code",
   "execution_count": 56,
   "metadata": {},
   "outputs": [
    {
     "name": "stdout",
     "output_type": "stream",
     "text": [
      "Nested List:  [[1, 2, 3], [4, 5, 6], [7, 8, 9]]\n",
      "Single List:  [1, 2, 3, 4, 5, 6, 7, 8, 9]\n"
     ]
    }
   ],
   "source": [
    "nested_list = [[1, 2, 3], [4, 5, 6], [7, 8, 9]]\n",
    "print(\"Nested List: \", nested_list)\n",
    "\n",
    "single_list = []\n",
    "for i in range(len(nested_list)):\n",
    "    single_list = single_list + nested_list[i]\n",
    "\n",
    "print(\"Single List: \", single_list)"
   ]
  },
  {
   "cell_type": "markdown",
   "metadata": {},
   "source": [
    "##### 65. Count Even Numbers: Write a Python program to count the number of even numbers in a nested list."
   ]
  },
  {
   "cell_type": "code",
   "execution_count": 30,
   "metadata": {},
   "outputs": [
    {
     "name": "stdout",
     "output_type": "stream",
     "text": [
      "The number of even numbers in the nested list: 4\n"
     ]
    }
   ],
   "source": [
    "nested_list = [[1, 2, 3], [4, 5, 6], [7, 8, 9]]\n",
    "\n",
    "count = 0\n",
    "\n",
    "for sublist in nested_list:\n",
    "    for element in sublist:\n",
    "        if element%2 == 0:\n",
    "            count = count + 1\n",
    "\n",
    "print(\"The number of even numbers in the nested list:\", count)\n"
   ]
  },
  {
   "cell_type": "markdown",
   "metadata": {},
   "source": [
    "##### 66. Maximum Element in Nested List: Write a Python program to find the maximum element in a nested list of integers."
   ]
  },
  {
   "cell_type": "code",
   "execution_count": 55,
   "metadata": {},
   "outputs": [
    {
     "name": "stdout",
     "output_type": "stream",
     "text": [
      "The maximum number in the nested list: 13\n"
     ]
    }
   ],
   "source": [
    "nested_list = [[3, 1, 4, 2], [11, 9, 10, 13], [5, 6, 7, 8]]\n",
    "\n",
    "max = nested_list[0][0]\n",
    "\n",
    "for sublist in nested_list:\n",
    "    for element in sublist:\n",
    "        if element > max:\n",
    "            max = element\n",
    "\n",
    "print(\"The maximum number in the nested list:\", max)"
   ]
  },
  {
   "cell_type": "markdown",
   "metadata": {},
   "source": [
    "##### 67. Diagonal Sum of Matrix: Given a square matrix represented as a nested list, write a Python program to calculate the sum of the elements in the main diagonal."
   ]
  },
  {
   "cell_type": "code",
   "execution_count": 59,
   "metadata": {},
   "outputs": [
    {
     "name": "stdout",
     "output_type": "stream",
     "text": [
      "The sum of the elements in the main diagonal: 15\n"
     ]
    }
   ],
   "source": [
    "matrix1 = [[1, 2, 3],\n",
    "           [4, 5, 6],\n",
    "           [7, 8, 9]]\n",
    "\n",
    "sum = 0\n",
    "\n",
    "for i in range(0, len(matrix1)):\n",
    "    sum = sum + matrix1[i][i]\n",
    "    \n",
    "print(\"The sum of the elements in the main diagonal:\", sum)\n"
   ]
  },
  {
   "cell_type": "markdown",
   "metadata": {},
   "source": [
    "##### 68. Nested List Element Search: Write a Python program to search for a specific element in a nested list and return its position (row and column indices)."
   ]
  },
  {
   "cell_type": "code",
   "execution_count": 58,
   "metadata": {},
   "outputs": [
    {
     "name": "stdout",
     "output_type": "stream",
     "text": [
      "Element found at row: 1 and column: 1\n"
     ]
    }
   ],
   "source": [
    "nested_list = [[1, 2, 3],\n",
    "               [4, 5, 6],\n",
    "               [7, 8, 9]]\n",
    "\n",
    "element = int(input(\"Enter the element to be searched: \"))\n",
    "\n",
    "index = (-1, -1)\n",
    "\n",
    "for i in range(0, len(nested_list)):\n",
    "    for j in range(0, len(nested_list[0])):\n",
    "        if element == nested_list[i][j]:\n",
    "            index = (i, j)\n",
    "            break\n",
    "if index == (-1, -1):\n",
    "    print(\"Element not found\")\n",
    "else:\n",
    "    print(\"Element found at row:\", index[0], \"and column:\", index[1])"
   ]
  }
 ],
 "metadata": {
  "kernelspec": {
   "display_name": "Python 3",
   "language": "python",
   "name": "python3"
  },
  "language_info": {
   "codemirror_mode": {
    "name": "ipython",
    "version": 3
   },
   "file_extension": ".py",
   "mimetype": "text/x-python",
   "name": "python",
   "nbconvert_exporter": "python",
   "pygments_lexer": "ipython3",
   "version": "3.11.6"
  }
 },
 "nbformat": 4,
 "nbformat_minor": 2
}
