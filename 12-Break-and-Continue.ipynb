{
 "cells": [
  {
   "cell_type": "markdown",
   "metadata": {},
   "source": [
    "##### 92. Prime Number Checker: Write a Python program that takes a number as input and determines if it is a prime number or not. Use a `for` loop to check for factors. If a factor is found, `break` out of the loop."
   ]
  },
  {
   "cell_type": "code",
   "execution_count": 7,
   "metadata": {},
   "outputs": [
    {
     "name": "stdout",
     "output_type": "stream",
     "text": [
      "Prime\n"
     ]
    }
   ],
   "source": [
    "num = int(input(\"Enter a number: \"))\n",
    "\n",
    "flag = 1\n",
    "for i in range(2, int(num**0.5)+1):\n",
    "    if num % i == 0:\n",
    "        flag = 0\n",
    "        break\n",
    "if flag == 1:\n",
    "    print(\"Prime\")\n",
    "else:\n",
    "    print(\"Not Prime\")\n"
   ]
  },
  {
   "cell_type": "markdown",
   "metadata": {},
   "source": [
    "##### 93. Even Number Printer: Write a Python program to print all even numbers from 1 to 20. Use a `for` loop and `continue` to skip odd numbers."
   ]
  },
  {
   "cell_type": "code",
   "execution_count": 11,
   "metadata": {},
   "outputs": [
    {
     "name": "stdout",
     "output_type": "stream",
     "text": [
      "Even numbers from 1 to 20:\n",
      "2 4 6 8 10 12 14 16 18 20 "
     ]
    }
   ],
   "source": [
    "print(\"Even numbers from 1 to 20:\")\n",
    "for i in range(1, 21):\n",
    "    if i % 2 != 0:\n",
    "        continue\n",
    "    print(i, end=\" \") "
   ]
  },
  {
   "cell_type": "markdown",
   "metadata": {},
   "source": [
    "##### 94. Password Validator: Write a Python program that takes a password as input and checks if it meets the following criteria: at least 8 characters long, contains both uppercase and lowercase letters, and has at least one digit. If the password is valid, print “Password accepted.” If not, use `continue` to prompt the user to enter a valid password."
   ]
  },
  {
   "cell_type": "code",
   "execution_count": 14,
   "metadata": {},
   "outputs": [
    {
     "name": "stdout",
     "output_type": "stream",
     "text": [
      "Password must be at least 8 characters long\n",
      "Password must be at least 8 characters long\n",
      "Password must contain at least one uppercase letter\n",
      "Password must contain at least one uppercase letter\n",
      "Password must contain at least one uppercase letter\n",
      "Password must contain at least one lowercase letter\n",
      "Password is valid\n"
     ]
    }
   ],
   "source": [
    "password = input(\"Enter password: \")\n",
    "\n",
    "while True:\n",
    "    if len(password) < 8:\n",
    "        print(\"Password must be at least 8 characters long\")\n",
    "        password = input(\"Enter password: \")\n",
    "        continue\n",
    "\n",
    "    elif not any(char.isdigit() for char in password):\n",
    "        print(\"Password must contain at least one digit\")\n",
    "        password = input(\"Enter password: \")\n",
    "        continue\n",
    "    elif not any(char.isupper() for char in password):\n",
    "        print(\"Password must contain at least one uppercase letter\")\n",
    "        password = input(\"Enter password: \")\n",
    "        continue\n",
    "    elif not any(char.islower() for char in password):\n",
    "        print(\"Password must contain at least one lowercase letter\")\n",
    "        password = input(\"Enter password: \")\n",
    "        continue\n",
    "    else:\n",
    "        print(\"Password is valid\")\n",
    "        break\n"
   ]
  },
  {
   "cell_type": "markdown",
   "metadata": {},
   "source": [
    "##### 95. Divisible by 3 or 5: Write a Python program to print all numbers from 1 to 50 that are divisible by either 3 or 5. Use a `for` loop and `continue` to skip numbers that are not divisible by either 3 or 5."
   ]
  },
  {
   "cell_type": "code",
   "execution_count": 33,
   "metadata": {},
   "outputs": [
    {
     "name": "stdout",
     "output_type": "stream",
     "text": [
      "Numbers from 1 to 50 that are divisible by 3 or 5:\n",
      "3 5 6 9 10 12 15 18 20 21 24 25 27 30 33 35 36 39 40 42 45 48 50 "
     ]
    }
   ],
   "source": [
    "print(\"Numbers from 1 to 50 that are divisible by 3 or 5:\")\n",
    "for i in range(1, 51):\n",
    "    if (i % 3 != 0) and (i % 5 != 0):\n",
    "        continue\n",
    "    print(i, end=\" \")"
   ]
  },
  {
   "cell_type": "markdown",
   "metadata": {},
   "source": [
    "##### 96. Positive Number Sum: Write a Python program that takes positive numbers as input until a negative number is entered. Then, calculate and print the sum of all positive numbers entered. Use a `while` loop and `break` to exit the loop when a negative number is encountered."
   ]
  },
  {
   "cell_type": "code",
   "execution_count": 6,
   "metadata": {},
   "outputs": [
    {
     "name": "stdout",
     "output_type": "stream",
     "text": [
      "Invalid input, negative number entered\n",
      "Sum of all positive numbers: 13\n"
     ]
    }
   ],
   "source": [
    "num = int(input(\"Enter 1st positive number: \"))\n",
    "\n",
    "sum = 0\n",
    "\n",
    "if num < 0:\n",
    "    print(\"Invalid input, negative number entered\")\n",
    "else:\n",
    "    i=2\n",
    "    while(True):\n",
    "        sum = sum + num\n",
    "        num = int(input(f\"Enter {i}nd positive number: \"))\n",
    "        i += 1\n",
    "        if num < 0:\n",
    "            print(\"Invalid input, negative number entered\")\n",
    "            break\n",
    "    print(\"Sum of all positive numbers:\", sum)\n",
    "        \n"
   ]
  },
  {
   "cell_type": "markdown",
   "metadata": {},
   "source": [
    "##### 97. Word Palindrome Checker: Write a Python program that takes a word as input and checks if it is a palindrome (reads the same forwards and backward). Use `continue` to skip checking the word if its length is less than 3 characters."
   ]
  },
  {
   "cell_type": "code",
   "execution_count": 13,
   "metadata": {},
   "outputs": [
    {
     "name": "stdout",
     "output_type": "stream",
     "text": [
      "wow is Palindrome\n",
      "mom is Palindrome\n",
      "joy is Not palindrome\n",
      "kol is Not palindrome\n",
      "Skipped, length is less than 3\n"
     ]
    }
   ],
   "source": [
    "while True:\n",
    "    str = input(\"Enter a word: \")\n",
    "\n",
    "    if str.lower() == \"quit\":\n",
    "        break\n",
    "\n",
    "    elif len(str) < 3:\n",
    "        print(\"Skipped, length is less than 3\")\n",
    "        continue\n",
    "\n",
    "    else:\n",
    "        str_reversed = str[::-1]\n",
    "        if str == str_reversed:\n",
    "            print(f\"{str} is Palindrome\")\n",
    "        else:\n",
    "            print(f\"{str} is Not palindrome\")"
   ]
  },
  {
   "cell_type": "markdown",
   "metadata": {},
   "source": [
    "##### 98. Odd Number Finder: Write a Python program to find the first odd number from a list of integers. Use a `for` loop and `break` to stop the loop when the first odd number is found."
   ]
  },
  {
   "cell_type": "code",
   "execution_count": 15,
   "metadata": {},
   "outputs": [
    {
     "name": "stdout",
     "output_type": "stream",
     "text": [
      "First odd number: 7\n"
     ]
    }
   ],
   "source": [
    "numbers = [4, 8, 6, 7, 1, 2, 3, 4, 5, 6, 7, 8, 9]\n",
    "\n",
    "for i in numbers:\n",
    "    if i % 2 != 0:\n",
    "        first_odd = i\n",
    "        break\n",
    "print(\"First odd number:\", first_odd)"
   ]
  },
  {
   "cell_type": "markdown",
   "metadata": {},
   "source": [
    "##### 99. Number Guessing Game: Write a Python program that generates a random number between 1 and 100 and lets the user guess the number. Use a `while` loop, `break` when the correct number is guessed, and `continue` to keep prompting the user until they guess correctly."
   ]
  },
  {
   "cell_type": "code",
   "execution_count": 17,
   "metadata": {},
   "outputs": [
    {
     "name": "stdout",
     "output_type": "stream",
     "text": [
      "Your guess is lower than the number\n",
      "Your guess is higher than the number\n",
      "Your guess is lower than the number\n",
      "Your guess is lower than the number\n",
      "Your guess is lower than the number\n",
      "Your guess is lower than the number\n",
      "Your guess is lower than the number\n",
      "Your guess is lower than the number\n",
      "Your guess is lower than the number\n",
      "Your guess is lower than the number\n",
      "Your guess is lower than the number\n",
      "Your guess is lower than the number\n",
      "Your guess is higher than the number\n",
      "Your guess is lower than the number\n",
      "Your guess is lower than the number\n",
      "You guessed it right! The number is 48\n"
     ]
    }
   ],
   "source": [
    "import random\n",
    "\n",
    "random_num = random.randint(1, 100)\n",
    "\n",
    "guess = int(input(\"Guess a number between 1 and 100: \"))\n",
    "\n",
    "while True:\n",
    "    if random_num == guess:\n",
    "        print(\"You guessed it right! The number is\", random_num)\n",
    "        break\n",
    "    elif random_num > guess:\n",
    "        print(\"Your guess is lower than the number\")\n",
    "        guess = int(input(\"Guess again: \"))\n",
    "        continue\n",
    "    elif random_num < guess:\n",
    "        print(\"Your guess is higher than the number\")\n",
    "        guess = int(input(\"Guess again: \"))\n",
    "        continue"
   ]
  },
  {
   "cell_type": "markdown",
   "metadata": {},
   "source": [
    "##### 100. Vowel Counter: Write a Python program that takes a string as input and counts the number of vowels (a, e, i, o, u) in it. Use a `for` loop and `continue` to skip counting non-vowel characters."
   ]
  },
  {
   "cell_type": "code",
   "execution_count": 19,
   "metadata": {},
   "outputs": [
    {
     "name": "stdout",
     "output_type": "stream",
     "text": [
      "Number of vowels: 4\n"
     ]
    }
   ],
   "source": [
    "str = input(\"Enter a string: \")\n",
    "\n",
    "count = 0\n",
    "\n",
    "for i in str:\n",
    "    if i.lower() not in \"aeiou\":\n",
    "        continue\n",
    "    else:\n",
    "        count = count + 1\n",
    "        \n",
    "print(\"Number of vowels:\", count)"
   ]
  },
  {
   "cell_type": "markdown",
   "metadata": {},
   "source": [
    "##### 101. Unique Characters: Write a Python program that takes a string as input and checks if it contains all unique characters (no character repeats). Use a `for` loop and `break` when a character repeats."
   ]
  },
  {
   "cell_type": "code",
   "execution_count": 23,
   "metadata": {},
   "outputs": [
    {
     "name": "stdout",
     "output_type": "stream",
     "text": [
      "Duplicate found\n"
     ]
    }
   ],
   "source": [
    "str = input(\"Enter a string: \")\n",
    "\n",
    "new_str = \"\"\n",
    "\n",
    "is_duplicate = False\n",
    "\n",
    "for i in str:\n",
    "    if i in new_str:\n",
    "        is_duplicate = True\n",
    "        break\n",
    "    else:\n",
    "        new_str = new_str + i\n",
    "\n",
    "if is_duplicate:\n",
    "    print(\"Duplicate found\")\n",
    "else:\n",
    "    print(\"Unique characters, No character is repeated\")\n"
   ]
  }
 ],
 "metadata": {
  "kernelspec": {
   "display_name": "Python 3",
   "language": "python",
   "name": "python3"
  },
  "language_info": {
   "codemirror_mode": {
    "name": "ipython",
    "version": 3
   },
   "file_extension": ".py",
   "mimetype": "text/x-python",
   "name": "python",
   "nbconvert_exporter": "python",
   "pygments_lexer": "ipython3",
   "version": "3.11.6"
  }
 },
 "nbformat": 4,
 "nbformat_minor": 2
}
