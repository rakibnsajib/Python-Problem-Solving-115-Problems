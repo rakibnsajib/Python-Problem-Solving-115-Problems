{
 "cells": [
  {
   "cell_type": "markdown",
   "metadata": {},
   "source": [
    "##### 11. Positive, Negative, or Zero: Write a Python program that takes a number as input and prints whether it is positive, negative, or zero."
   ]
  },
  {
   "cell_type": "code",
   "execution_count": 1,
   "metadata": {},
   "outputs": [
    {
     "name": "stdout",
     "output_type": "stream",
     "text": [
      "5.0 is Positive\n"
     ]
    }
   ],
   "source": [
    "num = float(input(\"Enter a number: \"))\n",
    "\n",
    "if (num==0):\n",
    "    print(num,\"is Zero\")\n",
    "elif (num<0):\n",
    "    print(num,\"is Negative\")\n",
    "else:\n",
    "    print(num,\"is Positive\")"
   ]
  },
  {
   "cell_type": "markdown",
   "metadata": {},
   "source": [
    "##### 12. Largest of Three Numbers: Write a Python program that takes three numbers as input and prints the largest among them."
   ]
  },
  {
   "cell_type": "code",
   "execution_count": 1,
   "metadata": {},
   "outputs": [
    {
     "name": "stdout",
     "output_type": "stream",
     "text": [
      "5.0 is the largest number\n"
     ]
    }
   ],
   "source": [
    "num1 = float(input(\"Enter first number: \"))\n",
    "num2 = float(input(\"Enter second number: \"))\n",
    "num3 = float(input(\"Enter third number: \"))\n",
    "\n",
    "if (num1>num2) and (num1>num3):\n",
    "    print(num1,\"is the largest number\")\n",
    "\n",
    "elif (num2>num1) and (num2>num3):\n",
    "    print(num2,\"is the largest number\")\n",
    "else:\n",
    "    print(num3,\"is the largest number\")"
   ]
  },
  {
   "cell_type": "markdown",
   "metadata": {},
   "source": [
    "##### 13. Leap Year Checker: Write a Python program that takes a year as input and determines if it is a leap year or not."
   ]
  },
  {
   "cell_type": "code",
   "execution_count": 3,
   "metadata": {},
   "outputs": [
    {
     "name": "stdout",
     "output_type": "stream",
     "text": [
      "3000 is not a leap year\n"
     ]
    }
   ],
   "source": [
    "year = int(input(\"Enter a year: \"))\n",
    "\n",
    "if (year%4==0 and year%100!=0) or (year%400==0):\n",
    "    print(year,\"is a leap year\")\n",
    "else:\n",
    "    print(year,\"is not a leap year\")"
   ]
  },
  {
   "cell_type": "markdown",
   "metadata": {},
   "source": [
    "##### 14. Grades Classification: Write a Python program that takes a student’s percentage as input and prints their corresponding grade according to the following criteria: – 90% or above: A+ – 80-89%: A – 70-79%: B – 60-69%: C – Below 60%: Fail"
   ]
  },
  {
   "cell_type": "code",
   "execution_count": 7,
   "metadata": {},
   "outputs": [
    {
     "name": "stdout",
     "output_type": "stream",
     "text": [
      "B\n"
     ]
    }
   ],
   "source": [
    "percentage = float(input(\"Enter your percentage: \"))\n",
    "\n",
    "if (percentage>=90):\n",
    "    print(\"A+\")\n",
    "elif (percentage>=80):\n",
    "    print(\"A\")\n",
    "elif (percentage>=70):\n",
    "    print(\"B\")\n",
    "elif (percentage>=60):\n",
    "    print(\"C\")\n",
    "else:\n",
    "    print(\"Fail\")"
   ]
  },
  {
   "cell_type": "markdown",
   "metadata": {},
   "source": [
    "##### 15. Vowel or Consonant: Write a Python program that takes a single character as input and determines whether it is a vowel or a consonant."
   ]
  },
  {
   "cell_type": "code",
   "execution_count": 10,
   "metadata": {},
   "outputs": [
    {
     "name": "stdout",
     "output_type": "stream",
     "text": [
      "5 is a consonant\n"
     ]
    }
   ],
   "source": [
    "char = input(\"Enter a single character: \")\n",
    "\n",
    "if len(char)!=1:\n",
    "    print(\"Error! Enter a single character\")\n",
    "else:\n",
    "    char = char.lower()\n",
    "    if (char=='a' or char=='e' or char=='i' or char=='o' or char=='u'):\n",
    "        print(char,\"is a vowel\")\n",
    "    else:\n",
    "        print(char,\"is a consonant\")"
   ]
  },
  {
   "cell_type": "markdown",
   "metadata": {},
   "source": [
    "##### 16. Time Classification: Write a Python program that takes the time in hours (24-hour format) as input and prints “Good Morning”, “Good Afternoon”, “Good Evening”, or “Good Night” based on the time."
   ]
  },
  {
   "cell_type": "code",
   "execution_count": 12,
   "metadata": {},
   "outputs": [
    {
     "name": "stdout",
     "output_type": "stream",
     "text": [
      "Good Night\n"
     ]
    }
   ],
   "source": [
    "time = int(input(\"Enter time in 24-hour format: \"))\n",
    "\n",
    "if (time>=0 and time<=11):\n",
    "    print(\"Good Morning\")\n",
    "elif (time>=12 and time<=16):\n",
    "    print(\"Good Afternoon\")\n",
    "elif (time>=17 and time<=21):\n",
    "    print(\"Good Evening\")\n",
    "elif (time>=22 and time<=24):\n",
    "    print(\"Good Night\")\n",
    "else:\n",
    "    print(\"Invalid time\")"
   ]
  },
  {
   "cell_type": "markdown",
   "metadata": {},
   "source": [
    "##### 17. Triangle Type Checker: Write a Python program that takes three sides of a triangle as input and determines whether it forms an equilateral, isosceles, or scalene triangle."
   ]
  },
  {
   "cell_type": "code",
   "execution_count": 19,
   "metadata": {},
   "outputs": [
    {
     "name": "stdout",
     "output_type": "stream",
     "text": [
      "Equilateral Triangle\n"
     ]
    }
   ],
   "source": [
    "inputs = input(\"Enter three sides of Triangle (separated by space): \")\n",
    "\n",
    "side1, side2, side3 = map(int, inputs.split())\n",
    "\n",
    "if (side1+side2>side3) and (side2+side3>side1) and (side1+side3>side2):\n",
    "    if (side1 == side2) and (side2 == side3):\n",
    "        print(\"Equilateral Triangle\")\n",
    "    elif (side1 == side2) or (side2 == side3) or (side1 == side3):\n",
    "        print(\"Isosceles Triangle\")\n",
    "    else:\n",
    "        print(\"Scalene Triangle\")\n",
    "else:\n",
    "    print(\"Not a Triangle. The summation of two sides must be greater than the third side\")"
   ]
  },
  {
   "cell_type": "markdown",
   "metadata": {},
   "source": [
    "##### 18. Quadratic Equation Solver: Write a Python program that takes the coefficients (a, b, c) of a quadratic equation as input and calculates and prints the real roots (if they exist) or a message indicating the complex roots."
   ]
  },
  {
   "cell_type": "code",
   "execution_count": 27,
   "metadata": {},
   "outputs": [
    {
     "name": "stdout",
     "output_type": "stream",
     "text": [
      "Roots are real and equal\n",
      "Root = -1.0\n"
     ]
    }
   ],
   "source": [
    "import math\n",
    "\n",
    "inputs = input(\"Enter coefficients a, b, c (separated by space): \")\n",
    "a, b, c = map(float, inputs.split())\n",
    "\n",
    "d = b**2 - 4*a*c\n",
    "\n",
    "if d<0:\n",
    "    print(\"Roots are complex roots\")\n",
    "elif d==0:\n",
    "    print(\"Roots are real and equal\")\n",
    "    x = (-b+math.sqrt(d))/2*a\n",
    "    print(\"Root =\",x)\n",
    "else:\n",
    "    print(\"Roots are real and distinct\")\n",
    "    x1 = (-b+math.sqrt(d))/2*a\n",
    "    x2 = (-b-math.sqrt(d))/2*a\n",
    "    print(\"Roots =\",x1,\"and\",x2)"
   ]
  },
  {
   "cell_type": "markdown",
   "metadata": {},
   "source": [
    "##### 19. Number Ranges: Write a Python program that takes an integer as input and prints whether the number falls within the ranges: 0-50, 51-100, 101-150, or above 150."
   ]
  },
  {
   "cell_type": "code",
   "execution_count": 22,
   "metadata": {},
   "outputs": [
    {
     "name": "stdout",
     "output_type": "stream",
     "text": [
      "The number falls within the range: 51-100\n"
     ]
    }
   ],
   "source": [
    "num = int(input(\"Enter a integer: \"))\n",
    "\n",
    "if (num<0):\n",
    "    print(\"Negative, Do not fall in any range.\")\n",
    "else:\n",
    "    print(\"The number falls within the range:\", end=\" \")\n",
    "    if (num>=0 and num<=50):\n",
    "        print(\"0-50\")\n",
    "    elif (num>=51 and num<=100):\n",
    "        print(\"51-100\")\n",
    "    elif (num>=101 and num<=150):\n",
    "        print(\"101-150\")\n",
    "    else:\n",
    "        print(\"above 150\")"
   ]
  }
 ],
 "metadata": {
  "kernelspec": {
   "display_name": "Python 3",
   "language": "python",
   "name": "python3"
  },
  "language_info": {
   "codemirror_mode": {
    "name": "ipython",
    "version": 3
   },
   "file_extension": ".py",
   "mimetype": "text/x-python",
   "name": "python",
   "nbconvert_exporter": "python",
   "pygments_lexer": "ipython3",
   "version": "3.11.6"
  }
 },
 "nbformat": 4,
 "nbformat_minor": 2
}
