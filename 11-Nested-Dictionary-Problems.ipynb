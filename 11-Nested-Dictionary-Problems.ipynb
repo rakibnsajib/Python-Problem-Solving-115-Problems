{
 "cells": [
  {
   "cell_type": "markdown",
   "metadata": {},
   "source": [
    "##### 87. Access Nested Dictionary: Given a nested dictionary containing student details, write a Python program to access and print specific information such as a student’s name, age, and address."
   ]
  },
  {
   "cell_type": "code",
   "execution_count": 11,
   "metadata": {},
   "outputs": [
    {
     "name": "stdout",
     "output_type": "stream",
     "text": [
      "Name: Asif\n",
      "Age: 18\n",
      "Address: Dhaka\n"
     ]
    }
   ],
   "source": [
    "student_dict = {\n",
    "    \"Student1\": {\n",
    "        \"name\": \"Asif\",\n",
    "        \"age\": 18,\n",
    "        \"address\": \"Dhaka\"\n",
    "    },\n",
    "\n",
    "    \"Student2\": {\n",
    "        \"name\": \"Rahul\",\n",
    "        \"age\": 17,\n",
    "        \"address\": \"Cumilla\"\n",
    "    },\n",
    "    \"Student3\": {\n",
    "        \"name\": \"Saikat\",\n",
    "        \"age\": 19,\n",
    "        \"address\": \"Rangpur\"\n",
    "    }\n",
    "}\n",
    "\n",
    "student = \"Student1\"\n",
    "\n",
    "if student in student_dict:\n",
    "    print(\"Name:\", student_dict[student][\"name\"])\n",
    "    print(\"Age:\", student_dict[student][\"age\"])\n",
    "    print(\"Address:\", student_dict[student][\"address\"])"
   ]
  },
  {
   "cell_type": "markdown",
   "metadata": {},
   "source": [
    "##### 88. Nested Dictionary Length: Write a Python program to calculate and print the total number of key-value pairs in a nested dictionary."
   ]
  },
  {
   "cell_type": "code",
   "execution_count": 13,
   "metadata": {},
   "outputs": [
    {
     "name": "stdout",
     "output_type": "stream",
     "text": [
      "Total number of key-value pairs in the nested dictionary: 9\n"
     ]
    }
   ],
   "source": [
    "student_dict = {\n",
    "    \"Student1\": {\n",
    "        \"name\": \"Asif\",\n",
    "        \"age\": 18,\n",
    "        \"address\": \"Dhaka\"\n",
    "    },\n",
    "\n",
    "    \"Student2\": {\n",
    "        \"name\": \"Rahul\",\n",
    "        \"age\": 17,\n",
    "        \"address\": \"Cumilla\"\n",
    "    },\n",
    "    \"Student3\": {\n",
    "        \"name\": \"Saikat\",\n",
    "        \"age\": 19,\n",
    "        \"address\": \"Rangpur\"\n",
    "    }\n",
    "}\n",
    "\n",
    "count = 0\n",
    "for student in student_dict:\n",
    "    for key in student_dict[student]:\n",
    "        count += 1\n",
    "\n",
    "print(\"Total number of key-value pairs in the nested dictionary:\", count)"
   ]
  },
  {
   "cell_type": "markdown",
   "metadata": {},
   "source": [
    "##### 89. Nested Dictionary Update: Given a nested dictionary of employee details, write a Python program to update an employee’s salary based on their employee ID."
   ]
  },
  {
   "cell_type": "code",
   "execution_count": 15,
   "metadata": {},
   "outputs": [
    {
     "name": "stdout",
     "output_type": "stream",
     "text": [
      "Employee id and salary before updating: {101: 25000, 102: 30000, 103: 40000, 104: 50000, 105: 60000}\n",
      "Employee id and salary after updating: {101: 25000, 102: 10000, 103: 40000, 104: 50000, 105: 60000}\n"
     ]
    }
   ],
   "source": [
    "employee_salary_dict = {\n",
    "    101: 25000,\n",
    "    102: 30000,\n",
    "    103: 40000,\n",
    "    104: 50000,\n",
    "    105: 60000\n",
    "}\n",
    "print(\"Employee id and salary before updating:\", employee_salary_dict)\n",
    "\n",
    "key = int(input(\"Enter employee id: \"))\n",
    "value = int(input(\"Enter updated salary: \"))\n",
    "employee_salary_dict[key] = value\n",
    "\n",
    "print(\"Employee id and salary after updating:\", employee_salary_dict)"
   ]
  },
  {
   "cell_type": "markdown",
   "metadata": {},
   "source": [
    "##### 90. Nested Dictionary Sorting: Given a nested dictionary containing product details (product name, price, and quantity), write a Python program to sort the products based on their prices in ascending order."
   ]
  },
  {
   "cell_type": "code",
   "execution_count": 25,
   "metadata": {},
   "outputs": [
    {
     "name": "stdout",
     "output_type": "stream",
     "text": [
      "Sorted product dictionary based on price:\n",
      "\n",
      "Product No: product2\n",
      "Name: Mobile\n",
      "Price: 20000\n",
      "Quantity: 10\n",
      "\n",
      "Product No: product3\n",
      "Name: TV\n",
      "Price: 30000\n",
      "Quantity: 15\n",
      "\n",
      "Product No: product1\n",
      "Name: Laptop\n",
      "Price: 50000\n",
      "Quantity: 5\n",
      "\n"
     ]
    }
   ],
   "source": [
    "product_dict = {\n",
    "    \"product1\": {\n",
    "        \"name\": \"Laptop\",\n",
    "        \"price\": 50000,\n",
    "        \"quantity\": 5\n",
    "    },\n",
    "    \"product2\": {\n",
    "        \"name\": \"Mobile\",\n",
    "        \"price\": 20000,\n",
    "        \"quantity\": 10\n",
    "    },\n",
    "    \"product3\": {\n",
    "        \"name\": \"TV\",\n",
    "        \"price\": 30000,\n",
    "        \"quantity\": 15\n",
    "    }\n",
    "}\n",
    "\n",
    "sorted_product_dict = dict(sorted(product_dict.items(), key = lambda x: x[1][\"price\"]))\n",
    "print(\"Sorted product dictionary based on price:\\n\")\n",
    "for key, value in sorted_product_dict.items():\n",
    "    print(\"Product No:\", key)\n",
    "    print(\"Name:\", value[\"name\"])\n",
    "    print(\"Price:\", value[\"price\"])\n",
    "    print(\"Quantity:\", value[\"quantity\"])\n",
    "    print()\n"
   ]
  },
  {
   "cell_type": "markdown",
   "metadata": {},
   "source": [
    "##### 91. Nested Dictionary Key Search: Write a Python program that takes a key as input and searches for it in a nested dictionary. If found, print the corresponding value, otherwise, print “Key Not Found.”"
   ]
  },
  {
   "cell_type": "code",
   "execution_count": 36,
   "metadata": {},
   "outputs": [
    {
     "name": "stdout",
     "output_type": "stream",
     "text": [
      "Key Found. Value: {'name': 'Rahul', 'age': 17, 'marks': 90}\n"
     ]
    }
   ],
   "source": [
    "student_dict = {\n",
    "    \"Student1\": {\n",
    "        \"name\": \"Asif\",\n",
    "        \"age\": 18,\n",
    "        \"address\": \"Dhaka\"\n",
    "    },\n",
    "\n",
    "    \"Student2\": {\n",
    "        \"name\": \"Rahul\",\n",
    "        \"age\": 17,\n",
    "        \"marks\": 90\n",
    "    },\n",
    "    \"Student3\": {\n",
    "        \"name\": \"Saikat\",\n",
    "        \"bggroup\": \"O+\",\n",
    "        \"address\": \"Rangpur\"\n",
    "    }\n",
    "}\n",
    "\n",
    "key = input(\"Enter key: \")\n",
    "\n",
    "is_found = False\n",
    "\n",
    "for student in student_dict:\n",
    "    if key == student:\n",
    "        is_found = True\n",
    "        print(\"Key Found. Value:\", student_dict[student])\n",
    "        break\n",
    "    elif key in student_dict[student]:\n",
    "        is_found = True\n",
    "        print(\"Key Found. Value:\", student_dict[student][key])\n",
    "        break\n",
    "    \n",
    "if is_found == False:\n",
    "    print(\"Key Not Found\")"
   ]
  }
 ],
 "metadata": {
  "kernelspec": {
   "display_name": "Python 3",
   "language": "python",
   "name": "python3"
  },
  "language_info": {
   "codemirror_mode": {
    "name": "ipython",
    "version": 3
   },
   "file_extension": ".py",
   "mimetype": "text/x-python",
   "name": "python",
   "nbconvert_exporter": "python",
   "pygments_lexer": "ipython3",
   "version": "3.11.6"
  }
 },
 "nbformat": 4,
 "nbformat_minor": 2
}
