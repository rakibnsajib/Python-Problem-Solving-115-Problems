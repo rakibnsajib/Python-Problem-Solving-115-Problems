{
 "cells": [
  {
   "cell_type": "markdown",
   "metadata": {},
   "source": [
    "##### 49. Tuple Concatenation: Write a Python program to concatenate two tuples and create a new tuple."
   ]
  },
  {
   "cell_type": "code",
   "execution_count": 2,
   "metadata": {},
   "outputs": [
    {
     "name": "stdout",
     "output_type": "stream",
     "text": [
      "Tuple 1:  (1, 2, 3, 4, 5)\n",
      "Tuple 2:  (6, 7, 8, 9, 10)\n",
      "Tuple after concatenation:  (1, 2, 3, 4, 5, 6, 7, 8, 9, 10)\n"
     ]
    }
   ],
   "source": [
    "tuple1 = (1, 2, 3, 4, 5)\n",
    "tuple2 = (6, 7, 8, 9, 10)\n",
    "print(\"Tuple 1: \", tuple1)\n",
    "print(\"Tuple 2: \", tuple2)\n",
    "\n",
    "tuple3 = tuple1 + tuple2\n",
    "\n",
    "print(\"Tuple after concatenation: \", tuple3)"
   ]
  },
  {
   "cell_type": "markdown",
   "metadata": {},
   "source": [
    "##### 50. Tuple Unpacking: Given a tuple with three elements (x, y, z), write a Python program to unpack the tuple and assign the values to three variables."
   ]
  },
  {
   "cell_type": "code",
   "execution_count": 6,
   "metadata": {},
   "outputs": [
    {
     "name": "stdout",
     "output_type": "stream",
     "text": [
      "Tuple before unpacking:  (10, 20, 30)\n",
      "After unpacking:\n",
      "x:  10\n",
      "y:  20\n",
      "z:  30\n"
     ]
    }
   ],
   "source": [
    "tuples = (10, 20, 30)\n",
    "print(\"Tuple before unpacking: \", tuples)\n",
    "\n",
    "x, y, z = tuples\n",
    "\n",
    "print(\"After unpacking:\")\n",
    "print(\"x: \", x)\n",
    "print(\"y: \", y)\n",
    "print(\"z: \", z)"
   ]
  },
  {
   "cell_type": "markdown",
   "metadata": {},
   "source": [
    "##### 51. Tuple Sorting: Write a Python program to sort a tuple of integers in ascending order."
   ]
  },
  {
   "cell_type": "code",
   "execution_count": 14,
   "metadata": {},
   "outputs": [
    {
     "name": "stdout",
     "output_type": "stream",
     "text": [
      "Unsorted tuple:  (10, 5, 20, 8, 9, 2, 1)\n",
      "Sorted tuple:  (1, 2, 5, 8, 9, 10, 20)\n"
     ]
    }
   ],
   "source": [
    "unsorted_tuple = (10, 5, 20, 8, 9, 2, 1)\n",
    "print(\"Unsorted tuple: \", unsorted_tuple)\n",
    "\n",
    "sorted_tuple = tuple(sorted(unsorted_tuple))\n",
    "\n",
    "print(\"Sorted tuple: \", sorted_tuple)"
   ]
  },
  {
   "cell_type": "markdown",
   "metadata": {},
   "source": [
    "##### 52. Tuple Frequency Count: Given a tuple containing various elements, write a Python program to count the frequency of a specific element in the tuple."
   ]
  },
  {
   "cell_type": "code",
   "execution_count": 17,
   "metadata": {},
   "outputs": [
    {
     "name": "stdout",
     "output_type": "stream",
     "text": [
      "Tuple:  (1, 2, 3, 4, 5, 1, 2, 3, 1, 2, 1)\n",
      "Frequency of 1 in the tuple is: 4\n"
     ]
    }
   ],
   "source": [
    "tuples = (1, 2, 3, 4, 5, 1, 2, 3, 1, 2, 1)\n",
    "print(\"Tuple: \", tuples)\n",
    "\n",
    "element = int(input(\"Enter element to find frequency: \"))\n",
    "\n",
    "print(\"Frequency of\", element, \"in the tuple is:\", tuples.count(element))"
   ]
  },
  {
   "cell_type": "markdown",
   "metadata": {},
   "source": [
    "##### 53. Tuple to List: Write a Python program to convert a tuple into a list."
   ]
  },
  {
   "cell_type": "code",
   "execution_count": 20,
   "metadata": {},
   "outputs": [
    {
     "name": "stdout",
     "output_type": "stream",
     "text": [
      "Tuple:  (1, 2, 3, 4, 5, 1, 2, 3, 1, 2, 1)\n",
      "Converted List:  [1, 2, 3, 4, 5, 1, 2, 3, 1, 2, 1]\n"
     ]
    }
   ],
   "source": [
    "tuples = (1, 2, 3, 4, 5, 1, 2, 3, 1, 2, 1)\n",
    "print(\"Tuple: \", tuples)\n",
    "\n",
    "list1 = list(tuples)\n",
    "print(\"Converted List: \", list1)"
   ]
  },
  {
   "cell_type": "markdown",
   "metadata": {},
   "source": [
    "##### 54. Tuple Reversal: Write a Python program to reverse a tuple without using any built-in functions."
   ]
  },
  {
   "cell_type": "code",
   "execution_count": 21,
   "metadata": {},
   "outputs": [
    {
     "name": "stdout",
     "output_type": "stream",
     "text": [
      "Reversed tuple:  (9, 8, 7, 6, 5, 4, 3, 2, 1)\n"
     ]
    }
   ],
   "source": [
    "tuples = (1, 2, 3, 4, 5, 6, 7, 8, 9)\n",
    "\n",
    "reversed_tuple = tuples[::-1]\n",
    "print(\"Reversed tuple: \", reversed_tuple)"
   ]
  },
  {
   "cell_type": "markdown",
   "metadata": {},
   "source": [
    "##### 55. Tuple Slicing: Given a tuple, write a Python program to extract a slice of elements from it."
   ]
  },
  {
   "cell_type": "code",
   "execution_count": 23,
   "metadata": {},
   "outputs": [
    {
     "name": "stdout",
     "output_type": "stream",
     "text": [
      "Original tuple:  (1, 2, 3, 4, 5, 6, 7, 8, 9)\n",
      "Sliced tuple:  (3, 4, 5, 6)\n"
     ]
    }
   ],
   "source": [
    "tuples = (1, 2, 3, 4, 5, 6, 7, 8, 9)\n",
    "print(\"Original tuple: \", tuples)\n",
    "\n",
    "slice_tuple = tuples[2:6]\n",
    "print(\"Sliced tuple: \", slice_tuple)"
   ]
  },
  {
   "cell_type": "markdown",
   "metadata": {},
   "source": [
    "##### 56. Tuple Operations: Given two tuples of integers, write a Python program to perform element-wise addition, subtraction, and multiplication and create new tuples for each operation."
   ]
  },
  {
   "cell_type": "code",
   "execution_count": 34,
   "metadata": {},
   "outputs": [
    {
     "name": "stdout",
     "output_type": "stream",
     "text": [
      "Element-wise addition of tuples:  (7, 9, 11, 13, 15)\n",
      "Element-wise subtraction of tuples:  (-5, -5, -5, -5, -5)\n",
      "Element-wise multiplication of tuples:  (6, 14, 24, 36, 50)\n"
     ]
    }
   ],
   "source": [
    "tuple1 = (1, 2, 3, 4, 5)\n",
    "tuple2 = (6, 7, 8, 9, 10)\n",
    "\n",
    "addition = tuple(x+y for x,y in zip(tuple1, tuple2))\n",
    "print(\"Element-wise addition of tuples: \", addition)\n",
    "\n",
    "subtraction = tuple(x-y for x,y in zip(tuple1, tuple2))\n",
    "print(\"Element-wise subtraction of tuples: \", subtraction)\n",
    "\n",
    "multiplication = tuple(x*y for x,y in zip(tuple1, tuple2))\n",
    "print(\"Element-wise multiplication of tuples: \", multiplication)"
   ]
  },
  {
   "cell_type": "markdown",
   "metadata": {},
   "source": [
    "##### 57. Tuple Membership Test: Write a Python program that takes an element as input and checks if it exists in a given tuple."
   ]
  },
  {
   "cell_type": "code",
   "execution_count": 24,
   "metadata": {},
   "outputs": [
    {
     "name": "stdout",
     "output_type": "stream",
     "text": [
      "Tuple:  (1, 2, 3, 4, 5, 6, 7, 8, 9)\n",
      "5 is present in the tuple.\n"
     ]
    }
   ],
   "source": [
    "tuples = (1, 2, 3, 4, 5, 6, 7, 8, 9)\n",
    "print(\"Tuple: \", tuples)\n",
    "\n",
    "element = int(input(\"Enter the element to be checked:\"))\n",
    "\n",
    "if element in tuples:\n",
    "    print(element, \"is present in the tuple.\")\n",
    "else:\n",
    "    print(element, \"is not present in the tuple.\")"
   ]
  },
  {
   "cell_type": "markdown",
   "metadata": {},
   "source": [
    "##### 58. Tuple Packing: Write a Python program to pack three variables into a single tuple and print the tuple."
   ]
  },
  {
   "cell_type": "code",
   "execution_count": 25,
   "metadata": {},
   "outputs": [
    {
     "name": "stdout",
     "output_type": "stream",
     "text": [
      "Single tuple:  (1, 2, 3, 4, 5, 6, 7, 8, 9, 10, 11, 12, 13, 14, 15)\n"
     ]
    }
   ],
   "source": [
    "tuple1 = (1, 2, 3, 4, 5)\n",
    "tuple2 = (6, 7, 8, 9, 10)\n",
    "tuple3 = (11, 12, 13, 14, 15)\n",
    "\n",
    "single_tuple = tuple1 + tuple2 + tuple3\n",
    "\n",
    "print(\"Single tuple: \", single_tuple)"
   ]
  }
 ],
 "metadata": {
  "kernelspec": {
   "display_name": "Python 3",
   "language": "python",
   "name": "python3"
  },
  "language_info": {
   "codemirror_mode": {
    "name": "ipython",
    "version": 3
   },
   "file_extension": ".py",
   "mimetype": "text/x-python",
   "name": "python",
   "nbconvert_exporter": "python",
   "pygments_lexer": "ipython3",
   "version": "3.11.6"
  }
 },
 "nbformat": 4,
 "nbformat_minor": 2
}
