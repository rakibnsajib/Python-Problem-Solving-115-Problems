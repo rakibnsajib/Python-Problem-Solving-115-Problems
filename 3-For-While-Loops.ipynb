{
 "cells": [
  {
   "cell_type": "markdown",
   "metadata": {},
   "source": [
    "##### 20. Sum of N Numbers: Write a Python program using a for loop to calculate the sum of the first N natural numbers, where N is taken as input from the user."
   ]
  },
  {
   "cell_type": "code",
   "execution_count": 2,
   "metadata": {},
   "outputs": [
    {
     "name": "stdout",
     "output_type": "stream",
     "text": [
      "Sum of first 5 natural numbers is 15\n"
     ]
    }
   ],
   "source": [
    "n = int(input(\"Enter a natural number: \"))\n",
    "\n",
    "sum = 0\n",
    "for i in range(1, n+1):\n",
    "    sum = sum + i\n",
    "print(\"Sum of first\", n, \"natural numbers is\", sum)\n"
   ]
  },
  {
   "cell_type": "markdown",
   "metadata": {},
   "source": [
    "##### 21. Factorial Calculator: Write a Python program using a while loop to calculate the factorial of a given number N."
   ]
  },
  {
   "cell_type": "code",
   "execution_count": 3,
   "metadata": {},
   "outputs": [
    {
     "name": "stdout",
     "output_type": "stream",
     "text": [
      "Factorial is 120\n"
     ]
    }
   ],
   "source": [
    "n = int(input(\"Enter a number: \"))\n",
    "fact = 1\n",
    "while(n):\n",
    "    fact = fact * n\n",
    "    n = n - 1\n",
    "print(\"Factorial is\", fact)"
   ]
  },
  {
   "cell_type": "markdown",
   "metadata": {},
   "source": [
    "##### 22. Table of a Number: Write a Python program using a for loop to print the multiplication table of a given number N."
   ]
  },
  {
   "cell_type": "code",
   "execution_count": 5,
   "metadata": {},
   "outputs": [
    {
     "name": "stdout",
     "output_type": "stream",
     "text": [
      "Multiplication Table of 5\n",
      "5 x 1 = 5\n",
      "5 x 2 = 10\n",
      "5 x 3 = 15\n",
      "5 x 4 = 20\n",
      "5 x 5 = 25\n",
      "5 x 6 = 30\n",
      "5 x 7 = 35\n",
      "5 x 8 = 40\n",
      "5 x 9 = 45\n",
      "5 x 10 = 50\n"
     ]
    }
   ],
   "source": [
    "n = int(input(\"Enter a number: \"))\n",
    "\n",
    "print(\"Multiplication Table of\", n)\n",
    "for i in range(1, 11):\n",
    "    print(n, \"x\", i, \"=\", n*i)"
   ]
  },
  {
   "cell_type": "markdown",
   "metadata": {},
   "source": [
    "##### 23. Count Digits in a Number: Write a Python program using a while loop to count the number of digits in a given integer N."
   ]
  },
  {
   "cell_type": "code",
   "execution_count": 6,
   "metadata": {},
   "outputs": [
    {
     "name": "stdout",
     "output_type": "stream",
     "text": [
      "Total digits are 3\n"
     ]
    }
   ],
   "source": [
    "n = int(input(\"Enter a number: \"))\n",
    "\n",
    "count = 0\n",
    "while(n):\n",
    "    count = count + 1\n",
    "    n = n//10\n",
    "\n",
    "print(\"Total digits in are\", count)"
   ]
  },
  {
   "cell_type": "markdown",
   "metadata": {},
   "source": [
    "##### 24. Fibonacci Sequence: Write a Python program using a for loop to generate the Fibonacci sequence up to a given limit N."
   ]
  },
  {
   "cell_type": "code",
   "execution_count": 7,
   "metadata": {},
   "outputs": [
    {
     "name": "stdout",
     "output_type": "stream",
     "text": [
      "Fibonacci Series upto 10 is:  0 1 1 2 3 5 8 13 21 34 "
     ]
    }
   ],
   "source": [
    "n = int(input(\"Enter a number: \"))\n",
    "\n",
    "fiba = 0\n",
    "fibb = 1\n",
    "\n",
    "print(\"Fibonacci Series upto\", n, \"is: \", end=\" \")\n",
    "\n",
    "for i in range(1, n+1):\n",
    "    print(fiba, end=\" \")\n",
    "    fibo = fiba + fibb\n",
    "    fiba = fibb\n",
    "    fibb = fibo"
   ]
  },
  {
   "cell_type": "markdown",
   "metadata": {},
   "source": [
    "##### 25. Sum of Even Numbers: Write a Python program using a while loop to calculate the sum of all even numbers between 1 and N, where N is taken as input from the user."
   ]
  },
  {
   "cell_type": "code",
   "execution_count": 4,
   "metadata": {},
   "outputs": [
    {
     "name": "stdout",
     "output_type": "stream",
     "text": [
      "Sum of first 5 even numbers is 6\n"
     ]
    }
   ],
   "source": [
    "n = int(input(\"Enter a number: \"))\n",
    "\n",
    "m = n\n",
    "sum = 0\n",
    "\n",
    "i = 1\n",
    "while(n):\n",
    "    if i % 2 == 0:\n",
    "        sum = sum + i\n",
    "    i = i + 1\n",
    "    n = n - 1\n",
    "print(\"Sum of first\", m, \"even numbers is\", sum)"
   ]
  },
  {
   "cell_type": "markdown",
   "metadata": {},
   "source": [
    "##### 26. Print Patterns: Write a Python program using nested for loops to print various patterns, such as a right-angled triangle, an inverted right-angled triangle, and so on."
   ]
  },
  {
   "cell_type": "code",
   "execution_count": 11,
   "metadata": {},
   "outputs": [
    {
     "name": "stdout",
     "output_type": "stream",
     "text": [
      "Right-Angled Triangle\n",
      "\n",
      "*\n",
      "**\n",
      "***\n",
      "****\n",
      "*****\n",
      "\n",
      "\n",
      "Inverted Right-Angled Triangle\n",
      "\n",
      "*****\n",
      "****\n",
      "***\n",
      "**\n",
      "*\n",
      "\n",
      "\n"
     ]
    }
   ],
   "source": [
    "#Right-Angled Triangle\n",
    "\n",
    "n = int(input(\"Enter a number: \"))\n",
    "\n",
    "print(\"Right-Angled Triangle\\n\")\n",
    "for i in range(n):\n",
    "    for j in range(i+1):\n",
    "        print(\"*\", end=\"\")\n",
    "    print()\n",
    "print(\"\\n\")\n",
    "\n",
    "print(\"Inverted Right-Angled Triangle\\n\")\n",
    "for i in range(n):\n",
    "    for j in range(n-i):\n",
    "        print(\"*\", end=\"\")\n",
    "    print()\n",
    "print(\"\\n\")"
   ]
  },
  {
   "cell_type": "markdown",
   "metadata": {},
   "source": [
    "##### 27. Prime Number Checker: Write a Python program using a while loop to check if a given number N is prime or not."
   ]
  },
  {
   "cell_type": "code",
   "execution_count": 16,
   "metadata": {},
   "outputs": [
    {
     "name": "stdout",
     "output_type": "stream",
     "text": [
      "7 is a Prime Number\n"
     ]
    }
   ],
   "source": [
    "import math\n",
    "num = int(input(\"Enter a number: \"))\n",
    "\n",
    "\n",
    "is_prime = True\n",
    "\n",
    "if num < 2:\n",
    "    is_prime = False\n",
    "elif num == 2:\n",
    "    is_prime = True\n",
    "else:\n",
    "    limit = int(math.sqrt(num))\n",
    "    i = 2\n",
    "\n",
    "    while(limit):\n",
    "        if num % 2 == 0:\n",
    "            is_prime = False        \n",
    "            break\n",
    "        limit = limit - 1\n",
    "\n",
    "if (is_prime):\n",
    "    print(num, \"is a Prime Number\")\n",
    "else:\n",
    "    print(num, \"is not a Prime Number\")"
   ]
  },
  {
   "cell_type": "markdown",
   "metadata": {},
   "source": [
    "##### 28. List Manipulation: Given a list of integers, write a Python program using a for loop to find the sum, average, maximum, and minimum values in the list."
   ]
  },
  {
   "cell_type": "code",
   "execution_count": 19,
   "metadata": {},
   "outputs": [
    {
     "name": "stdout",
     "output_type": "stream",
     "text": [
      "Sum of all elements in list is 55\n",
      "Average of all elements in list is 5.5\n",
      "Maximum value in list is 10\n",
      "Minimum value in list is 1\n"
     ]
    }
   ],
   "source": [
    "int_list = [1, 2, 3, 4, 5, 6, 7, 8, 9, 10]\n",
    "length = len(int_list)\n",
    "sum = 0\n",
    "\n",
    "for i in range(0, length):\n",
    "    sum = sum + int_list[i]\n",
    "\n",
    "avg = sum / length\n",
    "max_value = max(int_list)\n",
    "min_value = min(int_list)\n",
    "\n",
    "print(\"Sum of all elements in list is\", sum)\n",
    "print(\"Average of all elements in list is\", avg)\n",
    "print(\"Maximum value in list is\", max_value)\n",
    "print(\"Minimum value in list is\", min_value)\n"
   ]
  },
  {
   "cell_type": "markdown",
   "metadata": {},
   "source": [
    "##### 29. Reverse String: Write a Python program using a while loop to reverse a given string."
   ]
  },
  {
   "cell_type": "code",
   "execution_count": 21,
   "metadata": {},
   "outputs": [
    {
     "name": "stdout",
     "output_type": "stream",
     "text": [
      "Reversed string is fedcba\n"
     ]
    }
   ],
   "source": [
    "str = input(\"Enter a string: \")\n",
    "length = len(str)\n",
    "reversed_str = \"\"\n",
    "i = 0\n",
    "while(length):\n",
    "    reversed_str = reversed_str + str[length-1]\n",
    "    length = length - 1\n",
    "print(\"Reversed string is\", reversed_str)"
   ]
  }
 ],
 "metadata": {
  "kernelspec": {
   "display_name": "Python 3",
   "language": "python",
   "name": "python3"
  },
  "language_info": {
   "codemirror_mode": {
    "name": "ipython",
    "version": 3
   },
   "file_extension": ".py",
   "mimetype": "text/x-python",
   "name": "python",
   "nbconvert_exporter": "python",
   "pygments_lexer": "ipython3",
   "version": "3.11.6"
  }
 },
 "nbformat": 4,
 "nbformat_minor": 2
}
