{
 "cells": [
  {
   "cell_type": "markdown",
   "metadata": {},
   "source": [
    "##### 77. Dictionary Manipulation: Given a dictionary with student names as keys and their corresponding scores as values, write a Python program to add a new student to the dictionary and update the score of an existing student."
   ]
  },
  {
   "cell_type": "code",
   "execution_count": 16,
   "metadata": {},
   "outputs": [
    {
     "name": "stdout",
     "output_type": "stream",
     "text": [
      "Initial dictionary:\n",
      " {'Sajib': 80, 'Rakib': 90, 'Sabbir': 85, 'Abir': 95}\n",
      "\n",
      "After adding a new student:\n",
      " {'Sajib': 80, 'Rakib': 90, 'Sabbir': 85, 'Abir': 95, 'Asif': 92}\n",
      "\n",
      "After updation of the score of an existing student:\n",
      " {'Sajib': 80, 'Rakib': 90, 'Sabbir': 90, 'Abir': 95, 'Asif': 92}\n"
     ]
    }
   ],
   "source": [
    "student_dict = {\n",
    "    \"Sajib\": 80,\n",
    "    \"Rakib\": 90,\n",
    "    \"Sabbir\": 85,\n",
    "    \"Abir\": 95,\n",
    "}\n",
    "\n",
    "print(\"Initial dictionary:\\n\", student_dict)\n",
    "\n",
    "student_dict[\"Asif\"] = 92\n",
    "print(\"\\nAfter adding a new student:\\n\", student_dict)\n",
    "\n",
    "student_dict[\"Sabbir\"] = 90\n",
    "print(\"\\nAfter updation of the score of an existing student:\\n\", student_dict)\n"
   ]
  },
  {
   "cell_type": "markdown",
   "metadata": {},
   "source": [
    "##### 78. Dictionary Keys and Values: Write a Python program that takes a dictionary as input and prints all the keys and values in separate lines."
   ]
  },
  {
   "cell_type": "code",
   "execution_count": 19,
   "metadata": {},
   "outputs": [
    {
     "name": "stdout",
     "output_type": "stream",
     "text": [
      "key: name\n",
      "value: Sajib\n",
      "\n",
      "key: age\n",
      "value: 23\n",
      "\n",
      "key: city\n",
      "value: Dhaka\n",
      "\n"
     ]
    }
   ],
   "source": [
    "my_dict = {\"name\": \"Sajib\",\n",
    "           \"age\": 23, \n",
    "           \"city\": \"Dhaka\"}\n",
    "def dict_print(my_dict):\n",
    "    for key, value in my_dict.items():\n",
    "        print(\"key:\", key, end=\"\\n\")\n",
    "        print(\"value:\", value, end=\"\\n\\n\")\n",
    "dict_print(my_dict)"
   ]
  },
  {
   "cell_type": "markdown",
   "metadata": {},
   "source": [
    "##### 79. Dictionary Length: Write a Python program to calculate and print the number of key-value pairs in a given dictionary."
   ]
  },
  {
   "cell_type": "code",
   "execution_count": 21,
   "metadata": {},
   "outputs": [
    {
     "name": "stdout",
     "output_type": "stream",
     "text": [
      "The number of key-value pair: 3\n"
     ]
    }
   ],
   "source": [
    "my_dict = {\"name\": \"Sajib\",\n",
    "           \"age\": 23, \n",
    "           \"city\": \"Dhaka\"}\n",
    "length = len(my_dict)\n",
    "print(\"The number of key-value pair:\", length)"
   ]
  },
  {
   "cell_type": "markdown",
   "metadata": {},
   "source": [
    "##### 80. Dictionary Value Search: Given a dictionary of items and their prices, write a Python program to search for an item based on its price and print the item’s name."
   ]
  },
  {
   "cell_type": "code",
   "execution_count": 35,
   "metadata": {},
   "outputs": [
    {
     "name": "stdout",
     "output_type": "stream",
     "text": [
      "Initial dictionary:\n",
      " {'pen': 5, 'pencil': 10, 'book': 200, 'bag': 500}\n",
      "\n",
      "The item is: bag\n"
     ]
    }
   ],
   "source": [
    "price_dict = {\n",
    "    \"pen\": 5,\n",
    "    \"pencil\": 10,\n",
    "    \"book\": 200,\n",
    "    \"bag\":500\n",
    "}\n",
    "print(\"Initial dictionary:\\n\", price_dict)\n",
    "\n",
    "item_price = int(input(\"Enter the price of the item: \"))\n",
    "for key, value in price_dict.items():\n",
    "    if value == item_price:\n",
    "        print(\"\\nThe item is:\", key)\n"
   ]
  },
  {
   "cell_type": "markdown",
   "metadata": {},
   "source": [
    "##### 81. Dictionary Merging: Given two dictionaries, write a Python program to merge them into a single dictionary and print the result."
   ]
  },
  {
   "cell_type": "code",
   "execution_count": 47,
   "metadata": {},
   "outputs": [
    {
     "name": "stdout",
     "output_type": "stream",
     "text": [
      "{'Sajib': 80, 'Rakib': 90, 'Sabbir': 85, 'Abir': 95, 'Asif': 92, 'Jahid': 88, 'Mamun': 90, 'Naim': 95}\n"
     ]
    }
   ],
   "source": [
    "student_dict1 = {\"Sajib\": 80,\n",
    "                \"Rakib\": 90,\n",
    "                \"Sabbir\": 85,\n",
    "                \"Abir\": 95}\n",
    "\n",
    "student_dict2 = {\"Asif\": 92,\n",
    "                 \"Jahid\": 88,\n",
    "                 \"Mamun\": 90,\n",
    "                 \"Naim\": 95}\n",
    "\n",
    "student_merged = {**student_dict1, **student_dict2}\n",
    "print(student_merged)                 "
   ]
  },
  {
   "cell_type": "markdown",
   "metadata": {},
   "source": [
    "##### 82. Dictionary Key Removal: Given a dictionary of items and their quantities, write a Python program to remove a specific item from the dictionary based on user input."
   ]
  },
  {
   "cell_type": "code",
   "execution_count": 52,
   "metadata": {},
   "outputs": [
    {
     "name": "stdout",
     "output_type": "stream",
     "text": [
      "Initial dictionary:\n",
      " {'Rice': 5, 'Oil': 2, 'Sugar': 1, 'Salt': 3}\n",
      "\n",
      "After removing the item:\n",
      " {'Oil': 2, 'Sugar': 1, 'Salt': 3}\n"
     ]
    }
   ],
   "source": [
    "quantitiy_dict = {\"Rice\": 5,\n",
    "                  \"Oil\": 2,\n",
    "                  \"Sugar\": 1,\n",
    "                  \"Salt\": 3}\n",
    "\n",
    "print(\"Initial dictionary:\\n\", quantitiy_dict)\n",
    "\n",
    "item = input(\"Enter the name of item to be removed: \")\n",
    "\n",
    "quantitiy_dict.pop(item)\n",
    "print(\"\\nAfter removing the item:\\n\", quantitiy_dict)"
   ]
  },
  {
   "cell_type": "markdown",
   "metadata": {},
   "source": [
    "##### 83. Dictionary Sorting: Given a dictionary with names as keys and corresponding ages as values, write a Python program to sort the dictionary based on age in ascending order."
   ]
  },
  {
   "cell_type": "code",
   "execution_count": 103,
   "metadata": {},
   "outputs": [
    {
     "name": "stdout",
     "output_type": "stream",
     "text": [
      "Sorted dictionary:\n",
      " {'Rakib': 22, 'Sajib': 23, 'Abir': 25, 'Sabbir': 27}\n"
     ]
    }
   ],
   "source": [
    "name_age_dict = {\"Sajib\": 23,\n",
    "                 \"Rakib\": 22,\n",
    "                 \"Sabbir\": 27,\n",
    "                 \"Abir\": 25}\n",
    "\n",
    "sorted_dict = dict(sorted(name_age_dict.items(), key=lambda x: x[1]))\n",
    "\n",
    "print(\"Sorted dictionary:\\n\", sorted_dict)"
   ]
  },
  {
   "cell_type": "markdown",
   "metadata": {},
   "source": [
    "##### 84. Dictionary Frequency Count: Write a Python program that takes a string as input and creates a dictionary containing each character as a key and its frequency as the value."
   ]
  },
  {
   "cell_type": "code",
   "execution_count": 105,
   "metadata": {},
   "outputs": [
    {
     "name": "stdout",
     "output_type": "stream",
     "text": [
      "Sorted dictionary:\n",
      " {'a': 4, 'b': 2, 'c': 1, 'd': 1, 'e': 2, 'f': 1, 'g': 1, 'h': 1, 'i': 2, 'l': 2, 'n': 2, 'o': 1, 'r': 1, 's': 2, 't': 2, 'u': 3, 'y': 1}\n"
     ]
    }
   ],
   "source": [
    "from collections import Counter\n",
    "str = \"Bangladesh is a beautiful country\"\n",
    "\n",
    "str_without_space = str.replace(\" \", \"\")\n",
    "str_without_space = str_without_space.lower()\n",
    "\n",
    "count_dict = Counter(str_without_space)\n",
    "count_dict = dict(sorted(count_dict.items(), key=lambda x: x[0]))\n",
    "\n",
    "print(\"Sorted dictionary:\\n\", count_dict)\n"
   ]
  },
  {
   "cell_type": "markdown",
   "metadata": {},
   "source": [
    "##### 85. Dictionary Comprehension: Given a list of integers, write a Python program to create a dictionary where the keys are the elements from the list, and the values are their squares."
   ]
  },
  {
   "cell_type": "code",
   "execution_count": 107,
   "metadata": {},
   "outputs": [
    {
     "name": "stdout",
     "output_type": "stream",
     "text": [
      "Dictionary:\n",
      " {'Sajib': 80, 'Rakib': 90, 'Sabbir': 85, 'Abir': 95}\n"
     ]
    }
   ],
   "source": [
    "list1 = [\"Sajib\", \"Rakib\", \"Sabbir\", \"Abir\"]\n",
    "list2 = [80, 90, 85, 95]\n",
    "\n",
    "student_dict = dict(zip(list1, list2))\n",
    "\n",
    "print(\"Dictionary:\\n\", student_dict)"
   ]
  },
  {
   "cell_type": "markdown",
   "metadata": {},
   "source": [
    "##### 86. Dictionary Key Check: Write a Python program that takes a key as input and checks if it exists in a given dictionary. Print “Key Found” if the key is present and “Key Not Found” otherwise."
   ]
  },
  {
   "cell_type": "code",
   "execution_count": 113,
   "metadata": {},
   "outputs": [
    {
     "name": "stdout",
     "output_type": "stream",
     "text": [
      "Initial dictionary:\n",
      " {'Rice': 5, 'Oil': 2, 'Sugar': 1, 'Salt': 3}\n",
      "Key Not Found\n"
     ]
    }
   ],
   "source": [
    "product_dict = {\"Rice\": 5,\n",
    "                \"Oil\": 2,\n",
    "                \"Sugar\": 1,\n",
    "                \"Salt\": 3}\n",
    "\n",
    "print(\"Initial dictionary:\\n\", product_dict)\n",
    "\n",
    "product = input(\"Enter the key to be searched: \")\n",
    "\n",
    "if product in product_dict:\n",
    "    print(\"Key Found\")\n",
    "else:\n",
    "    print(\"Key Not Found\")"
   ]
  }
 ],
 "metadata": {
  "kernelspec": {
   "display_name": "Python 3",
   "language": "python",
   "name": "python3"
  },
  "language_info": {
   "codemirror_mode": {
    "name": "ipython",
    "version": 3
   },
   "file_extension": ".py",
   "mimetype": "text/x-python",
   "name": "python",
   "nbconvert_exporter": "python",
   "pygments_lexer": "ipython3",
   "version": "3.11.6"
  }
 },
 "nbformat": 4,
 "nbformat_minor": 2
}
