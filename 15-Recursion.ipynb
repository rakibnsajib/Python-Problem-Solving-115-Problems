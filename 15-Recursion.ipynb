{
 "cells": [
  {
   "cell_type": "markdown",
   "metadata": {},
   "source": [
    "##### 111. Factorial Calculation: Write a recursive Python function called `factorial` that takes a non-negative integer as input and returns its factorial."
   ]
  },
  {
   "cell_type": "code",
   "execution_count": 3,
   "metadata": {},
   "outputs": [
    {
     "name": "stdout",
     "output_type": "stream",
     "text": [
      "The factorial of 5 is 120\n"
     ]
    }
   ],
   "source": [
    "num = int(input(\"Enter a non-negative number: \"))\n",
    "\n",
    "if num < 0:\n",
    "    print(\"Error! You have entered a negative number\")\n",
    "\n",
    "else:\n",
    "\n",
    "    def factorial(num):\n",
    "        if num == 0:\n",
    "            return 1\n",
    "        else:\n",
    "            return num * factorial(num - 1)\n",
    "\n",
    "fact = factorial(num)\n",
    "\n",
    "print(\"The factorial of\", num, \"is\", fact)\n"
   ]
  },
  {
   "cell_type": "markdown",
   "metadata": {},
   "source": [
    "##### 112. Fibonacci Series: Write a recursive Python function called `fibonacci` that takes an integer N as input and returns the Nth number in the Fibonacci series. The Fibonacci series is defined as follows: F(0) = 0, F(1) = 1, and F(n) = F(n-1) + F(n-2) for n > 1."
   ]
  },
  {
   "cell_type": "code",
   "execution_count": 16,
   "metadata": {},
   "outputs": [
    {
     "name": "stdout",
     "output_type": "stream",
     "text": [
      "Fibonacci sequence: [0, 1, 1, 2, 3]\n"
     ]
    }
   ],
   "source": [
    "n = int(input(\"Enter an integer: \"))\n",
    "\n",
    "def fibonacci(n):\n",
    "    series = []\n",
    "\n",
    "    def calculate_fibonacci(n):\n",
    "        if n <= 1:\n",
    "            return n\n",
    "        else:\n",
    "            return (calculate_fibonacci(n - 1) + calculate_fibonacci(n - 2))\n",
    "    \n",
    "    for i in range(n):\n",
    "        series.append(calculate_fibonacci(i))\n",
    "    return series\n",
    "\n",
    "print(\"Fibonacci sequence:\", fibonacci(n))"
   ]
  },
  {
   "cell_type": "markdown",
   "metadata": {},
   "source": [
    "##### 113. The sum of Digits: Write a recursive Python function called `sum_of_digits` that takes an integer as input and returns the sum of its digits."
   ]
  },
  {
   "cell_type": "code",
   "execution_count": 20,
   "metadata": {},
   "outputs": [
    {
     "name": "stdout",
     "output_type": "stream",
     "text": [
      "The sum of digits of 1253 is 11\n"
     ]
    }
   ],
   "source": [
    "num = int(input(\"Enter a number: \"))\n",
    "\n",
    "def sum_of_digits(num):\n",
    "    if num == 0:\n",
    "        return 0\n",
    "    else:\n",
    "        return (num % 10) + sum_of_digits(num // 10)\n",
    "\n",
    "print(\"The sum of digits of\", num, \"is\", sum_of_digits(num))"
   ]
  },
  {
   "cell_type": "markdown",
   "metadata": {},
   "source": [
    "##### 114. Binary Search: Write a recursive Python function called `binary_search` that takes a sorted list and a target value as input and returns the index of the target value in the list using binary search. If the target value is not in the list, return -1."
   ]
  },
  {
   "cell_type": "code",
   "execution_count": 9,
   "metadata": {},
   "outputs": [
    {
     "name": "stdout",
     "output_type": "stream",
     "text": [
      "Element found at index 4\n"
     ]
    }
   ],
   "source": [
    "list = [1, 2, 3, 4, 5, 6, 7, 8, 9]\n",
    "\n",
    "def binary_search(list, low, high, num):\n",
    "    if high < low:\n",
    "        return -1\n",
    "\n",
    "    mid = (low + high) // 2\n",
    "\n",
    "    if num == list[mid]:\n",
    "        return mid\n",
    "    elif num > list[mid]:\n",
    "        return binary_search(list, mid + 1, high, num)\n",
    "    else:\n",
    "        return binary_search(list, low, mid - 1, num)\n",
    "\n",
    "\n",
    "num = int(input(\"Enter the number to be searched: \"))\n",
    "index = binary_search(list, 0, len(list) - 1, num)\n",
    "\n",
    "if index == -1:\n",
    "    print(\"Element not found\")\n",
    "else:\n",
    "    print(\"Element found at index\", index)\n"
   ]
  },
  {
   "cell_type": "markdown",
   "metadata": {},
   "source": [
    "##### 115. Power Calculation: Write a recursive Python function called `power` that takes two positive integers, base and exponent, as input and returns the value of base raised to the exponent."
   ]
  },
  {
   "cell_type": "code",
   "execution_count": 10,
   "metadata": {},
   "outputs": [
    {
     "name": "stdout",
     "output_type": "stream",
     "text": [
      "The value of 5 raised to 2 is 25\n"
     ]
    }
   ],
   "source": [
    "base = int(input(\"Enter the base: \"))\n",
    "exponent = int(input(\"Enter the exponent: \"))\n",
    "\n",
    "def power(base, exponent):\n",
    "    if exponent == 0:\n",
    "        return 1\n",
    "    else:\n",
    "        return base * power(base, exponent - 1)\n",
    "value = power(base, exponent)\n",
    "\n",
    "print(\"The value of\", base, \"raised to\", exponent, \"is\", value)"
   ]
  },
  {
   "cell_type": "markdown",
   "metadata": {},
   "source": [
    "## The End"
   ]
  }
 ],
 "metadata": {
  "kernelspec": {
   "display_name": "Python 3",
   "language": "python",
   "name": "python3"
  },
  "language_info": {
   "codemirror_mode": {
    "name": "ipython",
    "version": 3
   },
   "file_extension": ".py",
   "mimetype": "text/x-python",
   "name": "python",
   "nbconvert_exporter": "python",
   "pygments_lexer": "ipython3",
   "version": "3.11.6"
  }
 },
 "nbformat": 4,
 "nbformat_minor": 2
}
