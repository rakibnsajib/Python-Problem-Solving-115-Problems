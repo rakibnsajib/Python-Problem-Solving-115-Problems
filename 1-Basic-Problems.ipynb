{
 "cells": [
  {
   "cell_type": "markdown",
   "metadata": {},
   "source": [
    "## Basic Problems"
   ]
  },
  {
   "cell_type": "markdown",
   "metadata": {},
   "source": [
    "##### 1. Variable Swap: Write a Python program to swap the values of two variables without using a temporary variable."
   ]
  },
  {
   "cell_type": "code",
   "execution_count": 1,
   "metadata": {},
   "outputs": [
    {
     "name": "stdout",
     "output_type": "stream",
     "text": [
      "Variables before swapping:  5.0 10.0\n",
      "Variables after swapping:  10.0 5.0\n"
     ]
    }
   ],
   "source": [
    "var1 = float(input(\"Enter a number: \"))\n",
    "var2 = float(input(\"Enter another number: \"))\n",
    "\n",
    "print(\"Variables before swapping: \", var1, var2)\n",
    "\n",
    "temp = var1\n",
    "var1 = var2\n",
    "var2 = temp\n",
    "\n",
    "print(\"Variables after swapping: \", var1, var2)"
   ]
  },
  {
   "cell_type": "markdown",
   "metadata": {},
   "source": [
    "##### 2. Even or Odd: Write a Python program that takes an integer as input and prints whether it is even or odd."
   ]
  },
  {
   "cell_type": "code",
   "execution_count": 1,
   "metadata": {},
   "outputs": [
    {
     "name": "stdout",
     "output_type": "stream",
     "text": [
      "5 is Odd\n"
     ]
    }
   ],
   "source": [
    "num = int(input(\"Enter an integer: \"))\n",
    "\n",
    "if (num%2==0):\n",
    "    print(num,\"is Even\")\n",
    "else:\n",
    "    print(num,\"is Odd\")"
   ]
  },
  {
   "cell_type": "markdown",
   "metadata": {},
   "source": [
    "##### 3. String Reverse: Write a Python function to reverse a given string and return the reversed string."
   ]
  },
  {
   "cell_type": "code",
   "execution_count": 3,
   "metadata": {},
   "outputs": [
    {
     "name": "stdout",
     "output_type": "stream",
     "text": [
      "Reversed String:  cba\n"
     ]
    }
   ],
   "source": [
    "str = input(\"Enter a string: \")\n",
    "\n",
    "def reverse(str):\n",
    "    reversed_str = str[::-1]\n",
    "    return reversed_str\n",
    "\n",
    "print(\"Reversed String: \", reverse(str))"
   ]
  },
  {
   "cell_type": "markdown",
   "metadata": {},
   "source": [
    "##### 4. Type Conversion: Given a list of integers, write a Python program to convert each element of the list to a string."
   ]
  },
  {
   "cell_type": "code",
   "execution_count": 6,
   "metadata": {},
   "outputs": [
    {
     "name": "stdout",
     "output_type": "stream",
     "text": [
      "['1', '2', '3', '4', '5', '6', '7', '8', '9', '10']\n"
     ]
    }
   ],
   "source": [
    "list_int = [1, 2, 3, 4, 5, 6, 7, 8, 9, 10]\n",
    "\n",
    "list_str = []\n",
    "\n",
    "for i in list_int:\n",
    "    list_str.append(str(i))\n",
    "\n",
    "print(list_str)\n"
   ]
  },
  {
   "cell_type": "markdown",
   "metadata": {},
   "source": [
    "##### 5. Temperature Converter: Write a Python program that converts a temperature in Celsius to Fahrenheit. Take the Celsius temperature as input from the user."
   ]
  },
  {
   "cell_type": "code",
   "execution_count": 4,
   "metadata": {},
   "outputs": [
    {
     "name": "stdout",
     "output_type": "stream",
     "text": [
      "Temperature in Fahrenheit:  89.6\n"
     ]
    }
   ],
   "source": [
    "c = float(input(\"Enter temperature in Celsius: \"))\n",
    "\n",
    "f = ((c*9)/5)+32\n",
    "\n",
    "print(\"Temperature in Fahrenheit: \", f)"
   ]
  },
  {
   "cell_type": "markdown",
   "metadata": {},
   "source": [
    "##### 6. Data Type Checker: Write a Python function that takes a variable as input and returns the data type of the variable as a string (e.g., “int”, “float”, “str”, “list”, etc.)."
   ]
  },
  {
   "cell_type": "code",
   "execution_count": 8,
   "metadata": {},
   "outputs": [
    {
     "name": "stdout",
     "output_type": "stream",
     "text": [
      "The data type of 123 is : <class 'int'>\n",
      "The data type of 10.2 is : <class 'float'>\n",
      "The data type of abc is : <class 'str'>\n",
      "The data type of [1, 2, 3, 4, 5, 6, 7, 8, 9] is : <class 'list'>\n"
     ]
    }
   ],
   "source": [
    "int_var = int(input(\"Enter a integer: \"))\n",
    "float_var = float(input(\"Enter a float number: \"))\n",
    "list_var = list(map(int, input(\"Enter a list of integers (seperated by space): \").split()))\n",
    "str_var = input(\"Enter a string: \")\n",
    "\n",
    "def type_checker(var):\n",
    "    return type(var)\n",
    "print(\"The data type of\",int_var,\"is :\", type_checker(int_var))\n",
    "print(\"The data type of\",float_var,\"is :\", type_checker(float_var))\n",
    "print(\"The data type of\",str_var,\"is :\", type_checker(str_var))\n",
    "print(\"The data type of\",list_var,\"is :\", type_checker(list_var))"
   ]
  },
  {
   "cell_type": "markdown",
   "metadata": {},
   "source": [
    "##### 7. String Palindrome: Write a Python function to check if a given string is a palindrome or not."
   ]
  },
  {
   "cell_type": "code",
   "execution_count": 11,
   "metadata": {},
   "outputs": [
    {
     "name": "stdout",
     "output_type": "stream",
     "text": [
      "wow is a palindrome\n"
     ]
    }
   ],
   "source": [
    "str = input(\"Enter a string: \")\n",
    "\n",
    "def check_palindrome(str):\n",
    "    reversed_str = str[::-1]\n",
    "    if(str == reversed_str):\n",
    "        print(str,\"is a palindrome\")\n",
    "    else:\n",
    "        print(str,\"is not a palindrome\")\n",
    "        \n",
    "check_palindrome(str)"
   ]
  },
  {
   "cell_type": "markdown",
   "metadata": {},
   "source": [
    "##### 8. String Reversal with Slicing: Write a Python function to reverse a given string using slicing."
   ]
  },
  {
   "cell_type": "code",
   "execution_count": 12,
   "metadata": {},
   "outputs": [
    {
     "name": "stdout",
     "output_type": "stream",
     "text": [
      "Reversed String:  cba\n"
     ]
    }
   ],
   "source": [
    "str = input(\"Enter a string: \")\n",
    "\n",
    "def reverse(str):\n",
    "    reversed_str = str[::-1]\n",
    "    return reversed_str\n",
    "\n",
    "print(\"Reversed String: \", reverse(str))"
   ]
  },
  {
   "cell_type": "markdown",
   "metadata": {},
   "source": [
    "##### 9. String Concatenation: Write a Python program that takes two strings as input and concatenates them into a single string without using the `+` operator."
   ]
  },
  {
   "cell_type": "code",
   "execution_count": 13,
   "metadata": {},
   "outputs": [
    {
     "name": "stdout",
     "output_type": "stream",
     "text": [
      "Concatenated String:  abcdef\n"
     ]
    }
   ],
   "source": [
    "str1 = input(\"Enter first string: \")\n",
    "str2 = input(\"Enter second string: \")\n",
    "\n",
    "str3 = \"\".join([str1,str2])\n",
    "\n",
    "print(\"Concatenated String: \", str3)"
   ]
  },
  {
   "cell_type": "markdown",
   "metadata": {},
   "source": [
    "##### 10. Typecasting Challenge: Given three variables: `a = ‘100’`, `b = 25`, and `c = ‘10.5’`, write a Python program to perform the following operations and print the results: – Convert `a` to an integer and add it to `b`. – Convert `c` to a float and subtract it from the result of the first operation. – Convert the final result to a string and concatenate it with the string ” is the answer.”"
   ]
  },
  {
   "cell_type": "code",
   "execution_count": 3,
   "metadata": {},
   "outputs": [
    {
     "name": "stdout",
     "output_type": "stream",
     "text": [
      "114.5 is the answer.\n"
     ]
    }
   ],
   "source": [
    "a = '100'\n",
    "b = 25\n",
    "c = '10.5'\n",
    "\n",
    "result1 = int(a) + b\n",
    "result2 = result1 - float(c)\n",
    "\n",
    "final_result = result2.__str__() + \" is the answer.\"\n",
    "\n",
    "print(final_result)"
   ]
  }
 ],
 "metadata": {
  "kernelspec": {
   "display_name": "Python 3",
   "language": "python",
   "name": "python3"
  },
  "language_info": {
   "codemirror_mode": {
    "name": "ipython",
    "version": 3
   },
   "file_extension": ".py",
   "mimetype": "text/x-python",
   "name": "python",
   "nbconvert_exporter": "python",
   "pygments_lexer": "ipython3",
   "version": "3.11.6"
  }
 },
 "nbformat": 4,
 "nbformat_minor": 2
}
