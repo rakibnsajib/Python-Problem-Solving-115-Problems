{
 "cells": [
  {
   "cell_type": "markdown",
   "metadata": {},
   "source": [
    "##### 108. Math Operations: Write a Python function called `math_operations` that takes three numbers and a string representing an operation (‘add’, ‘subtract’, ‘multiply’, or ‘divide’). The function should return the result of the specified operation on the three numbers. Implement the math operations as nested functions."
   ]
  },
  {
   "cell_type": "code",
   "execution_count": 2,
   "metadata": {},
   "outputs": [
    {
     "name": "stdout",
     "output_type": "stream",
     "text": [
      "The result is:  0.13\n"
     ]
    }
   ],
   "source": [
    "num1, num2, num3 = map(int, input(\"Enter three numbers (seperated by space):\").split())\n",
    "operation = input(\"Enter the operation: \")\n",
    "\n",
    "def math_operations(num1, num2, num3, operation):\n",
    "    def add(num1, num2, num3):\n",
    "        return num1 + num2 + num3\n",
    "    def subtract(num1, num2, num3):\n",
    "        return num1 - num2 - num3\n",
    "    def multiply(num1, num2, num3):\n",
    "        return num1 * num2 * num3\n",
    "    def divide(num1, num2, num3):\n",
    "        if num2 == 0 or num3 == 0:\n",
    "            return \"Can not divide by zero\"\n",
    "        return num1 / num2 / num3\n",
    "\n",
    "    if operation == \"add\":\n",
    "        return add(num1, num2, num3)\n",
    "    elif operation == \"subtract\":\n",
    "        return subtract(num1, num2, num3)\n",
    "    elif operation == \"multiply\":\n",
    "        return multiply(num1, num2, num3)\n",
    "    elif operation == \"divide\":\n",
    "        return divide(num1, num2, num3)\n",
    "    else:\n",
    "        return \"Invalid operation\"\n",
    "    \n",
    "result = math_operations(num1, num2, num3, operation)\n",
    "\n",
    "print(\"The result is: \", round(result,2))"
   ]
  },
  {
   "cell_type": "markdown",
   "metadata": {},
   "source": [
    "##### 109. Greeting Generator: Write a Python function called `greeting_generator` that takes a name as input and returns a greeting message using nested functions. The greeting message should be customizable (e.g., “Hello, {name}! How are you today?”)."
   ]
  },
  {
   "cell_type": "code",
   "execution_count": 32,
   "metadata": {},
   "outputs": [
    {
     "name": "stdout",
     "output_type": "stream",
     "text": [
      "Hello, Sajib! How are you today?\n"
     ]
    }
   ],
   "source": [
    "name = input(\"Enter your name: \")\n",
    "\n",
    "def greeting_generator(name, message):\n",
    "    def greeting_message():\n",
    "        return message.format(name=name)\n",
    "    return greeting_message()\n",
    "\n",
    "message = \"Hello, {name}! How are you today?\"\n",
    "greeting = greeting_generator(name, message)\n",
    "print(greeting)"
   ]
  },
  {
   "cell_type": "markdown",
   "metadata": {},
   "source": [
    "##### 110. Temperature Converter: Write a Python function called `temperature_converter` that takes a temperature value and a string representing the scale (‘C’ for Celsius or ‘F’ for Fahrenheit) as input. The function should convert the temperature from one scale to the other using nested functions and return the converted value."
   ]
  },
  {
   "cell_type": "code",
   "execution_count": 35,
   "metadata": {},
   "outputs": [
    {
     "name": "stdout",
     "output_type": "stream",
     "text": [
      "The converted temperature is:  36.67 C\n"
     ]
    }
   ],
   "source": [
    "temp = float(input(\"Enter the temperature: \"))\n",
    "scale = input(\"Enter the scale (C/F): \")\n",
    "\n",
    "def temperature_converter(temp, scale):\n",
    "    def c_to_f(temp):\n",
    "        return round(((temp * 9/5) + 32), 2)\n",
    "    def f_to_c(temp):\n",
    "        return round(((temp - 32) * 5/9),2)\n",
    "    if scale == \"C\":\n",
    "        return c_to_f(temp)\n",
    "    elif scale == \"F\":\n",
    "        return f_to_c(temp)\n",
    "    else:\n",
    "        return \"Invalid scale\"\n",
    "converted_temp = temperature_converter(temp, scale)\n",
    "\n",
    "if scale == \"C\":\n",
    "    print(\"The converted temperature is: \", converted_temp, \"F\")\n",
    "elif scale == \"F\":\n",
    "    print(\"The converted temperature is: \", converted_temp, \"C\")"
   ]
  }
 ],
 "metadata": {
  "kernelspec": {
   "display_name": "Python 3",
   "language": "python",
   "name": "python3"
  },
  "language_info": {
   "codemirror_mode": {
    "name": "ipython",
    "version": 3
   },
   "file_extension": ".py",
   "mimetype": "text/x-python",
   "name": "python",
   "nbconvert_exporter": "python",
   "pygments_lexer": "ipython3",
   "version": "3.11.6"
  }
 },
 "nbformat": 4,
 "nbformat_minor": 2
}
